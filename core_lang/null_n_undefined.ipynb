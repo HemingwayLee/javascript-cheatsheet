{
 "cells": [
  {
   "cell_type": "markdown",
   "metadata": {},
   "source": [
    "# Test with undefined"
   ]
  },
  {
   "cell_type": "code",
   "execution_count": 1,
   "metadata": {},
   "outputs": [
    {
     "name": "stdout",
     "output_type": "stream",
     "text": [
      "undefined\n",
      "undefined\n"
     ]
    }
   ],
   "source": [
    "var foo;\n",
    "console.log(foo);\n",
    "console.log(typeof foo);"
   ]
  },
  {
   "cell_type": "code",
   "execution_count": 2,
   "metadata": {},
   "outputs": [
    {
     "name": "stdout",
     "output_type": "stream",
     "text": [
      "null\n",
      "object\n"
     ]
    }
   ],
   "source": [
    "var bar = null;\n",
    "console.log(bar);\n",
    "console.log(typeof bar);"
   ]
  }
 ],
 "metadata": {
  "kernelspec": {
   "display_name": "Javascript (Node.js)",
   "language": "javascript",
   "name": "javascript"
  },
  "language_info": {
   "file_extension": ".js",
   "mimetype": "application/javascript",
   "name": "javascript",
   "version": "14.12.0"
  }
 },
 "nbformat": 4,
 "nbformat_minor": 4
}
