{
 "cells": [
  {
   "cell_type": "markdown",
   "metadata": {},
   "source": [
    "## What is object\n",
    "An object is a collection of properties, and a property is an association between a key and a value."
   ]
  },
  {
   "cell_type": "code",
   "execution_count": 1,
   "metadata": {},
   "outputs": [],
   "source": [
    "var obj = {\n",
    "  'abc': 'the value can be a string',\n",
    "  'xyz': 123,\n",
    "  'bbc': \"the value can be in double quotation\",\n",
    "  'obj': {\n",
    "    \"bar\": \"the value can be another object\"\n",
    "  },\n",
    "  2: 'key can be an integer',\n",
    "  'foo': function(name) { console.log(\"hello \" + name); }\n",
    "};"
   ]
  },
  {
   "cell_type": "markdown",
   "metadata": {},
   "source": [
    "### We can access objects with `.` or `[]`"
   ]
  },
  {
   "cell_type": "code",
   "execution_count": 2,
   "metadata": {},
   "outputs": [
    {
     "name": "stdout",
     "output_type": "stream",
     "text": [
      "the value can be a string\n",
      "123\n",
      "the value can be in double quotation\n",
      "key can be an integer\n",
      "the value can be another object\n"
     ]
    }
   ],
   "source": [
    "console.log(obj.abc);\n",
    "console.log(obj['xyz']);\n",
    "console.log(obj.bbc);\n",
    "console.log(obj[2]);\n",
    "console.log(obj.obj.bar);"
   ]
  },
  {
   "cell_type": "markdown",
   "metadata": {},
   "source": [
    "### We can also call the function in the object"
   ]
  },
  {
   "cell_type": "code",
   "execution_count": 3,
   "metadata": {},
   "outputs": [
    {
     "name": "stdout",
     "output_type": "stream",
     "text": [
      "hello Yun Wei\n"
     ]
    }
   ],
   "source": [
    "obj.foo(\"Yun Wei\");"
   ]
  },
  {
   "cell_type": "markdown",
   "metadata": {},
   "source": [
    "### Adding key/value to an object"
   ]
  },
  {
   "cell_type": "code",
   "execution_count": 4,
   "metadata": {},
   "outputs": [
    {
     "name": "stdout",
     "output_type": "stream",
     "text": [
      "bar\n"
     ]
    }
   ],
   "source": [
    "var obj2 = {\n",
    "  'abc': 'this is a string'\n",
    "};\n",
    "\n",
    "obj2['foo'] = 'bar';\n",
    "\n",
    "console.log(obj2.foo);"
   ]
  },
  {
   "cell_type": "code",
   "execution_count": 5,
   "metadata": {},
   "outputs": [
    {
     "name": "stdout",
     "output_type": "stream",
     "text": [
      "override!!!\n"
     ]
    }
   ],
   "source": [
    "obj2['foo'] = 'override!!!';\n",
    "\n",
    "console.log(obj2.foo);"
   ]
  }
 ],
 "metadata": {
  "kernelspec": {
   "display_name": "Javascript (Node.js)",
   "language": "javascript",
   "name": "javascript"
  },
  "language_info": {
   "file_extension": ".js",
   "mimetype": "application/javascript",
   "name": "javascript",
   "version": "14.12.0"
  }
 },
 "nbformat": 4,
 "nbformat_minor": 2
}
