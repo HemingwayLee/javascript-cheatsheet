{
 "cells": [
  {
   "cell_type": "code",
   "execution_count": 1,
   "metadata": {},
   "outputs": [
    {
     "name": "stdout",
     "output_type": "stream",
     "text": [
      "{ j: [ 'james', 'jake' ], r: [ 'rose' ], m: [ 'mary', 'mark' ] }\n"
     ]
    }
   ],
   "source": [
    "var names = [\"james\", \"jake\", \"rose\", \"mary\", \"mark\"];\n",
    "console.log(names.reduce((total, curr) => {\n",
    "  var first = curr[0];\n",
    "  if (total.hasOwnProperty(first)) {\n",
    "    total[first].push(curr);\n",
    "  } else {\n",
    "    total[first] = [];\n",
    "    total[first].push(curr);\n",
    "  }\n",
    "    \n",
    "  return total;\n",
    "}, {}));"
   ]
  },
  {
   "cell_type": "code",
   "execution_count": 5,
   "metadata": {},
   "outputs": [],
   "source": [
    "var groupBy = (x,f) => x.reduce((a,b)=>((a[f(b)] = a[f(b)] ||[]).push(b),a),{});\n"
   ]
  },
  {
   "cell_type": "code",
   "execution_count": 6,
   "metadata": {},
   "outputs": [
    {
     "name": "stdout",
     "output_type": "stream",
     "text": [
      "{ j: [ 'james', 'jake' ], r: [ 'rose' ], m: [ 'mary', 'mark' ] }\n"
     ]
    }
   ],
   "source": [
    "console.log(groupBy(names, ele => ele[0]));"
   ]
  },
  {
   "cell_type": "code",
   "execution_count": 8,
   "metadata": {},
   "outputs": [
    {
     "name": "stdout",
     "output_type": "stream",
     "text": [
      "{\n",
      "  '1': [ { name: 'James', lv: 1 }, { name: 'Rose', lv: 1 } ],\n",
      "  '2': [ { name: 'Jack', lv: 2 }, { name: 'Mary', lv: 2 } ]\n",
      "}\n"
     ]
    }
   ],
   "source": [
    "var data = [\n",
    "  {\"name\":\"James\", \"lv\":1}, \n",
    "  {\"name\":\"Jack\", \"lv\":2}, \n",
    "  {\"name\":\"Rose\", \"lv\":1}, \n",
    "  {\"name\":\"Mary\", \"lv\":2}\n",
    "];\n",
    "console.log(groupBy(data, ele => ele[\"lv\"]));"
   ]
  },
  {
   "cell_type": "code",
   "execution_count": 26,
   "metadata": {},
   "outputs": [
    {
     "name": "stdout",
     "output_type": "stream",
     "text": [
      "[\n",
      "  { name: 'James', data: [ [Object] ] },\n",
      "  { name: 'Rose', data: [ [Object] ] },\n",
      "  { name: 'Mark', data: [] },\n",
      "  { name: 'Chris', data: [] }\n",
      "]\n"
     ]
    }
   ],
   "source": [
    "var players = [\n",
    "  {\"name\":\"James\", \"lv\":1}, \n",
    "  {\"name\":\"James\", \"lv\":2}, \n",
    "  {\"name\":\"Rose\", \"lv\":1}, \n",
    "  {\"name\":\"Rose\", \"lv\":2},\n",
    "  {\"name\":\"Mark\", \"lv\":1}, \n",
    "  {\"name\":\"Chris\", \"lv\":2},\n",
    "];\n",
    "\n",
    "console.log(players.reduce((total, curr) => {\n",
    "//   console.log(total);\n",
    "//   console.log(curr);\n",
    "\n",
    "  var match = total.filter(ele => ele[\"name\"] == curr[\"name\"]);\n",
    "  if (match.length > 0) {\n",
    "    match[0][\"data\"].push(curr);\n",
    "  } else {\n",
    "    total.push({\"name\": curr[\"name\"], \"data\":[]});\n",
    "  }\n",
    "  return total;\n",
    "}, []));"
   ]
  }
 ],
 "metadata": {
  "kernelspec": {
   "display_name": "Javascript (Node.js)",
   "language": "javascript",
   "name": "javascript"
  },
  "language_info": {
   "file_extension": ".js",
   "mimetype": "application/javascript",
   "name": "javascript",
   "version": "14.12.0"
  }
 },
 "nbformat": 4,
 "nbformat_minor": 4
}
