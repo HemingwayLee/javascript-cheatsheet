{
 "cells": [
  {
   "cell_type": "markdown",
   "metadata": {},
   "source": [
    "## Local Scope\n",
    "### variable can not be accessed outside of the function"
   ]
  },
  {
   "cell_type": "code",
   "execution_count": 2,
   "metadata": {},
   "outputs": [
    {
     "name": "stdout",
     "output_type": "stream",
     "text": [
      "Inside function: Volvo\n"
     ]
    },
    {
     "ename": "ReferenceError",
     "evalue": "carName is not defined",
     "output_type": "error",
     "traceback": [
      "evalmachine.<anonymous>:9",
      "console.log(\"Outside function: \" + carName);",
      "                                   ^",
      "",
      "ReferenceError: carName is not defined",
      "    at evalmachine.<anonymous>:9:36",
      "    at Script.runInThisContext (vm.js:132:18)",
      "    at Object.runInThisContext (vm.js:309:38)",
      "    at run ([eval]:1054:15)",
      "    at onRunRequest ([eval]:888:18)",
      "    at onMessage ([eval]:848:13)",
      "    at process.emit (events.js:314:20)",
      "    at emit (internal/child_process.js:902:12)",
      "    at processTicksAndRejections (internal/process/task_queues.js:81:21)"
     ]
    }
   ],
   "source": [
    "function foo() {\n",
    "  var carName = \"Volvo\";\n",
    "\n",
    "  console.log(\"Inside function: \" + carName);\n",
    "}\n",
    "\n",
    "foo();\n",
    "\n",
    "console.log(\"Outside function: \" + carName);"
   ]
  },
  {
   "cell_type": "markdown",
   "metadata": {},
   "source": [
    "## Global Scope"
   ]
  },
  {
   "cell_type": "code",
   "execution_count": 3,
   "metadata": {},
   "outputs": [
    {
     "name": "stdout",
     "output_type": "stream",
     "text": [
      "Inside function: James\n",
      "Outside function: James\n"
     ]
    }
   ],
   "source": [
    "var myName = \"James\";\n",
    "\n",
    "function bar() {\n",
    "  console.log(\"Inside function: \" + myName);\n",
    "}\n",
    "\n",
    "bar();\n",
    "\n",
    "console.log(\"Outside function: \" + myName);"
   ]
  },
  {
   "cell_type": "markdown",
   "metadata": {},
   "source": [
    "## Automatically Global Scope\n",
    "If you assign a value to a variable that has not been declared, it will automatically become a GLOBAL variable.\n"
   ]
  },
  {
   "cell_type": "code",
   "execution_count": 4,
   "metadata": {},
   "outputs": [
    {
     "name": "stdout",
     "output_type": "stream",
     "text": [
      "Inside function: Volvo\n",
      "Outside function: Volvo\n"
     ]
    }
   ],
   "source": [
    "function fuzzy() {\n",
    "  youName = \"Volvo\";\n",
    "  console.log(\"Inside function: \" + youName);\n",
    "}\n",
    "\n",
    "fuzzy();\n",
    "\n",
    "console.log(\"Outside function: \" + youName);"
   ]
  },
  {
   "cell_type": "markdown",
   "metadata": {},
   "source": [
    "# Cover"
   ]
  },
  {
   "cell_type": "code",
   "execution_count": 8,
   "metadata": {},
   "outputs": [
    {
     "name": "stdout",
     "output_type": "stream",
     "text": [
      "undefined\n",
      "local\n"
     ]
    }
   ],
   "source": [
    "var gg = \"global\";\n",
    "function func() {\n",
    "    console.log(gg);\n",
    "    var gg = \"local\";\n",
    "    console.log(gg);\n",
    "}\n",
    "\n",
    "func();"
   ]
  },
  {
   "cell_type": "markdown",
   "metadata": {},
   "source": [
    "# module scope\n",
    "## module does not work correctly on Jupyter Notebook"
   ]
  },
  {
   "cell_type": "code",
   "execution_count": 9,
   "metadata": {},
   "outputs": [
    {
     "name": "stdout",
     "output_type": "stream",
     "text": [
      "x\n",
      "y\n"
     ]
    }
   ],
   "source": [
    "var x = \"x\";\n",
    "y = \"y\";\n",
    "\n",
    "console.log(global.x);\n",
    "console.log(global.y);"
   ]
  }
 ],
 "metadata": {
  "kernelspec": {
   "display_name": "Javascript (Node.js)",
   "language": "javascript",
   "name": "javascript"
  },
  "language_info": {
   "file_extension": ".js",
   "mimetype": "application/javascript",
   "name": "javascript",
   "version": "14.12.0"
  }
 },
 "nbformat": 4,
 "nbformat_minor": 2
}
