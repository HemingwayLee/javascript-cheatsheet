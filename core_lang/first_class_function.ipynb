{
 "cells": [
  {
   "cell_type": "markdown",
   "metadata": {},
   "source": [
    "Functions in javascript are treated like any other variable.\n",
    "\n",
    "## Assign a function to a variable"
   ]
  },
  {
   "cell_type": "code",
   "execution_count": 2,
   "metadata": {},
   "outputs": [
    {
     "name": "stdout",
     "output_type": "stream",
     "text": [
      "foo\n",
      "bear\n",
      "bear\n"
     ]
    }
   ],
   "source": [
    "var foo = function() {\n",
    "  console.log(\"foo\");\n",
    "}\n",
    "\n",
    "foo();\n",
    "\n",
    "function bear() {\n",
    "  console.log(\"bear\");\n",
    "}\n",
    "\n",
    "var bar = bear;\n",
    "\n",
    "bar();\n",
    "bear();"
   ]
  },
  {
   "cell_type": "markdown",
   "metadata": {},
   "source": [
    "## Pass a function as an Argument"
   ]
  },
  {
   "cell_type": "code",
   "execution_count": 4,
   "metadata": {},
   "outputs": [
    {
     "name": "stdout",
     "output_type": "stream",
     "text": [
      "Hello, JavaScript!\n",
      "Hi, JavaScript!\n"
     ]
    }
   ],
   "source": [
    "function sayHello() {\n",
    "  return \"Hello, \";\n",
    "}\n",
    "\n",
    "function sayHi() {\n",
    "  return \"Hi, \";\n",
    "}\n",
    "\n",
    "function greeting(func, name) {\n",
    "  console.log(func() + name);\n",
    "}\n",
    "\n",
    "greeting(sayHello, \"JavaScript!\");\n",
    "greeting(sayHi, \"JavaScript!\");\n"
   ]
  },
  {
   "cell_type": "markdown",
   "metadata": {},
   "source": [
    "## Return a function"
   ]
  },
  {
   "cell_type": "code",
   "execution_count": 5,
   "metadata": {},
   "outputs": [
    {
     "name": "stdout",
     "output_type": "stream",
     "text": [
      "Hello!\n",
      "Hello!\n"
     ]
    }
   ],
   "source": [
    "function sayHello() {\n",
    "   return function() {\n",
    "      console.log(\"Hello!\");\n",
    "   }\n",
    "}\n",
    "\n",
    "var foo = sayHello();\n",
    "\n",
    "foo();\n",
    "sayHello()();"
   ]
  },
  {
   "cell_type": "code",
   "execution_count": null,
   "metadata": {},
   "outputs": [],
   "source": []
  }
 ],
 "metadata": {
  "kernelspec": {
   "display_name": "Javascript (Node.js)",
   "language": "javascript",
   "name": "javascript"
  },
  "language_info": {
   "file_extension": ".js",
   "mimetype": "application/javascript",
   "name": "javascript",
   "version": "12.3.1"
  }
 },
 "nbformat": 4,
 "nbformat_minor": 2
}
