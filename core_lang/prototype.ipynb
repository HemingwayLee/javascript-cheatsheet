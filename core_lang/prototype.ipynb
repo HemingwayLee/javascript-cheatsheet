{
 "cells": [
  {
   "cell_type": "markdown",
   "metadata": {},
   "source": [
    "# What is `prototype`\n",
    "* All JavaScript objects inherit properties and methods from a prototype\n",
    "* The prototype property allows you to add properties and methods to any object (Number, Boolean, String and Date etc.)"
   ]
  },
  {
   "cell_type": "markdown",
   "metadata": {},
   "source": [
    "# Add a object"
   ]
  },
  {
   "cell_type": "code",
   "execution_count": 1,
   "metadata": {},
   "outputs": [
    {
     "name": "stdout",
     "output_type": "stream",
     "text": [
      ":)\n",
      ":)\n",
      ":)\n",
      ":)\n"
     ]
    }
   ],
   "source": [
    "Object.prototype.smile = \":)\";\n",
    "var str = \"abc\";\n",
    "var num = 11;\n",
    "\n",
    "console.log(str.smile);\n",
    "console.log(num.smile);\n",
    "console.log((11).smile);\n",
    "console.log(\"xyz\".smile);"
   ]
  },
  {
   "cell_type": "markdown",
   "metadata": {},
   "source": [
    "# Add a function"
   ]
  },
  {
   "cell_type": "code",
   "execution_count": 2,
   "metadata": {},
   "outputs": [
    {
     "name": "stdout",
     "output_type": "stream",
     "text": [
      "foo\n",
      "foo\n",
      "foo\n",
      "foo\n"
     ]
    }
   ],
   "source": [
    "Object.prototype.foo = function() {\n",
    "  return \"foo\"\n",
    "}\n",
    "\n",
    "console.log(str.foo())\n",
    "console.log(num.foo())\n",
    "console.log((11).foo())\n",
    "console.log(\"xyz\".foo())"
   ]
  }
 ],
 "metadata": {
  "kernelspec": {
   "display_name": "Javascript (Node.js)",
   "language": "javascript",
   "name": "javascript"
  },
  "language_info": {
   "file_extension": ".js",
   "mimetype": "application/javascript",
   "name": "javascript",
   "version": "14.12.0"
  }
 },
 "nbformat": 4,
 "nbformat_minor": 4
}
