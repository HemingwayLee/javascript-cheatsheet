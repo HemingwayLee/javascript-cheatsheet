{
 "cells": [
  {
   "cell_type": "markdown",
   "metadata": {},
   "source": [
    "# the value of `this` is determined by how a function is called"
   ]
  },
  {
   "cell_type": "code",
   "execution_count": 2,
   "metadata": {},
   "outputs": [
    {
     "name": "stdout",
     "output_type": "stream",
     "text": [
      "abc\n",
      "xyz\n",
      "undefined\n"
     ]
    }
   ],
   "source": [
    "function foo() {\n",
    "  return this.aaa\n",
    "}\n",
    "\n",
    "var obj1 = {\n",
    "  aaa: \"abc\",\n",
    "  fun: foo\n",
    "};\n",
    "\n",
    "var obj2 = {\n",
    "  aaa: \"xyz\",\n",
    "  fun: foo\n",
    "};\n",
    "\n",
    "console.log(obj1.fun());\n",
    "console.log(obj2.fun());\n",
    "console.log(foo());"
   ]
  }
 ],
 "metadata": {
  "kernelspec": {
   "display_name": "Javascript (Node.js)",
   "language": "javascript",
   "name": "javascript"
  },
  "language_info": {
   "file_extension": ".js",
   "mimetype": "application/javascript",
   "name": "javascript",
   "version": "14.12.0"
  }
 },
 "nbformat": 4,
 "nbformat_minor": 4
}
