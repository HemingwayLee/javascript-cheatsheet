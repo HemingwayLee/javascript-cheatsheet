{
 "cells": [
  {
   "cell_type": "markdown",
   "metadata": {},
   "source": [
    "# What\n",
    "`\"use strict\";` Defines that JavaScript code should be executed in \"strict mode\"\n",
    "\n",
    "The syntax, for declaring strict mode, was designed to be compatible with older versions of JavaScript. Old compiler will treat it as a normal string literal\n",
    "\n",
    "## strict mode\n",
    "* Strict mode makes it easier to write \"secure\" JavaScript\n",
    "* Strict mode changes previously accepted `bad syntax` into real errors\n",
    "  * Many `bad syntax` are not allowed in strict mode"
   ]
  },
  {
   "cell_type": "code",
   "execution_count": 7,
   "metadata": {},
   "outputs": [
    {
     "ename": "ReferenceError",
     "evalue": "x is not defined",
     "output_type": "error",
     "traceback": [
      "evalmachine.<anonymous>:2",
      "x = 3.14;",
      "  ^",
      "",
      "ReferenceError: x is not defined",
      "    at evalmachine.<anonymous>:2:3",
      "    at Script.runInThisContext (vm.js:123:20)",
      "    at Object.runInThisContext (vm.js:313:38)",
      "    at run ([eval]:1002:15)",
      "    at onRunRequest ([eval]:829:18)",
      "    at onMessage ([eval]:789:13)",
      "    at process.emit (events.js:200:13)",
      "    at emit (internal/child_process.js:876:12)",
      "    at processTicksAndRejections (internal/process/task_queues.js:84:9)"
     ]
    }
   ],
   "source": [
    "\"use strict\";\n",
    "x = 3.14;"
   ]
  },
  {
   "cell_type": "code",
   "execution_count": 11,
   "metadata": {},
   "outputs": [
    {
     "data": {
      "text/plain": [
       "3.15"
      ]
     },
     "execution_count": 11,
     "metadata": {},
     "output_type": "execute_result"
    }
   ],
   "source": [
    "x = 3.15"
   ]
  },
  {
   "cell_type": "markdown",
   "metadata": {},
   "source": [
    "# Reference\n",
    "* We don't have to add `\"use strict\";` to each function\n",
    "\n",
    "https://stackoverflow.com/questions/34301881/should-i-use-strict-for-every-single-javascript-function-i-write\n",
    "\n",
    "\n",
    "* Details of strict mode\n",
    "\n",
    "https://www.w3schools.com/js/js_strict.asp"
   ]
  }
 ],
 "metadata": {
  "kernelspec": {
   "display_name": "Javascript (Node.js)",
   "language": "javascript",
   "name": "javascript"
  },
  "language_info": {
   "file_extension": ".js",
   "mimetype": "application/javascript",
   "name": "javascript",
   "version": "12.3.1"
  }
 },
 "nbformat": 4,
 "nbformat_minor": 2
}
