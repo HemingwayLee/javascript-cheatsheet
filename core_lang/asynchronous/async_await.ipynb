{
 "cells": [
  {
   "cell_type": "markdown",
   "metadata": {},
   "source": [
    "# What\n",
    "* It is another way to write `promise-based` code in a cleaner style\n",
    "* It avoids promise chains"
   ]
  },
  {
   "cell_type": "markdown",
   "metadata": {},
   "source": [
    "# How\n",
    "* `async` makes a function return a `Promise`"
   ]
  },
  {
   "cell_type": "code",
   "execution_count": 9,
   "metadata": {},
   "outputs": [
    {
     "name": "stdout",
     "output_type": "stream",
     "text": [
      "Promise { 'hello' }\n",
      "hello\n"
     ]
    }
   ],
   "source": [
    "async function foo() {\n",
    "  return \"hello\";\n",
    "}\n",
    "\n",
    "console.log(foo());\n",
    "foo().then(x => console.log(x));"
   ]
  },
  {
   "cell_type": "code",
   "execution_count": 15,
   "metadata": {},
   "outputs": [
    {
     "name": "stdout",
     "output_type": "stream",
     "text": [
      "x: hola\n"
     ]
    }
   ],
   "source": [
    "async function bar() {\n",
    "  if (Math.random() > 0.5) {\n",
    "    return \"hola\";\n",
    "  } else {\n",
    "    throw \"Error!\";\n",
    "  }\n",
    "}\n",
    "\n",
    "bar()\n",
    "  .then(x => { console.log(`x: ${x}`); })\n",
    "  .catch(err => { console.log(`err: ${err}`); });"
   ]
  },
  {
   "cell_type": "markdown",
   "metadata": {},
   "source": [
    "* `await` makes a function wait for a `Promise`\n",
    "* `await` must be inside `async` function"
   ]
  },
  {
   "cell_type": "code",
   "execution_count": 16,
   "metadata": {},
   "outputs": [
    {
     "name": "stdout",
     "output_type": "stream",
     "text": [
      "I love Async/Await\n"
     ]
    }
   ],
   "source": [
    "async function fuzzy() {\n",
    "  const myPromise = new Promise(function(res, rej) {\n",
    "    res(\"I love Async/Await\");\n",
    "  });\n",
    "  console.log(await myPromise);\n",
    "}\n",
    "\n",
    "fuzzy();"
   ]
  },
  {
   "cell_type": "markdown",
   "metadata": {},
   "source": [
    "# Real example"
   ]
  },
  {
   "cell_type": "code",
   "execution_count": 17,
   "metadata": {},
   "outputs": [
    {
     "name": "stdout",
     "output_type": "stream",
     "text": [
      "what bar() return: [object Promise]\n",
      "after await:\n",
      "aaa\n",
      "bbb\n"
     ]
    }
   ],
   "source": [
    "async function bar() {\n",
    "  try {\n",
    "    const data = await fs.promises.readFile('./foo.txt', 'utf8')\n",
    "    console.log(\"after await:\");\n",
    "    console.log(data);\n",
    "  }\n",
    "  catch(err) {\n",
    "    console.log(err);\n",
    "  }\n",
    "}\n",
    "\n",
    "console.log(`what bar() return: ${bar()}`);"
   ]
  }
 ],
 "metadata": {
  "kernelspec": {
   "display_name": "Javascript (Node.js)",
   "language": "javascript",
   "name": "javascript"
  },
  "language_info": {
   "file_extension": ".js",
   "mimetype": "application/javascript",
   "name": "javascript",
   "version": "14.12.0"
  }
 },
 "nbformat": 4,
 "nbformat_minor": 4
}
