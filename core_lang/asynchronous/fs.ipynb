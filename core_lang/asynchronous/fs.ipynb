{
 "cells": [
  {
   "cell_type": "markdown",
   "metadata": {},
   "source": [
    "# Async file read\n",
    "* The `content` is `undefined` because the `fs.readFile` is async"
   ]
  },
  {
   "cell_type": "code",
   "execution_count": 1,
   "metadata": {},
   "outputs": [
    {
     "name": "stdout",
     "output_type": "stream",
     "text": [
      "undefined\n"
     ]
    }
   ],
   "source": [
    "const fs = require('fs');\n",
    "var content;\n",
    "fs.readFile('./foo.txt', function read(err, data) {\n",
    "  if (err) {\n",
    "    console.log(err);\n",
    "  }\n",
    "  content = data;\n",
    "});\n",
    "\n",
    "console.log(content);"
   ]
  },
  {
   "cell_type": "markdown",
   "metadata": {},
   "source": [
    "* use `fs.readFileSync` instead"
   ]
  },
  {
   "cell_type": "code",
   "execution_count": 2,
   "metadata": {},
   "outputs": [
    {
     "name": "stdout",
     "output_type": "stream",
     "text": [
      "aaa\n",
      "bbb\n"
     ]
    }
   ],
   "source": [
    "content = fs.readFileSync('./foo.txt', 'utf8');\n",
    "console.log(content);"
   ]
  },
  {
   "cell_type": "markdown",
   "metadata": {},
   "source": [
    "* Or `fs.promises` which available natively since Node v11.0.0"
   ]
  },
  {
   "cell_type": "code",
   "execution_count": 4,
   "metadata": {},
   "outputs": [
    {
     "name": "stdout",
     "output_type": "stream",
     "text": [
      "aaa\n",
      "bbb\n"
     ]
    }
   ],
   "source": [
    "fs.promises.readFile('./foo.txt', 'utf8')\n",
    "  .then(result => { console.log(result); })\n",
    "  .catch(err => { console.log(err); });"
   ]
  },
  {
   "cell_type": "markdown",
   "metadata": {},
   "source": [
    "* Or `await` with `fs.promises`"
   ]
  },
  {
   "cell_type": "code",
   "execution_count": 11,
   "metadata": {},
   "outputs": [
    {
     "name": "stdout",
     "output_type": "stream",
     "text": [
      "what bar() return: [object Promise]\n",
      "after await:\n",
      "aaa\n",
      "bbb\n"
     ]
    }
   ],
   "source": [
    "async function bar() {\n",
    "  try {\n",
    "    const data = await fs.promises.readFile('./foo.txt', 'utf8')\n",
    "    console.log(\"after await:\");\n",
    "    console.log(data);\n",
    "  }\n",
    "  catch(err) {\n",
    "    console.log(err);\n",
    "  }\n",
    "}\n",
    "\n",
    "console.log(`what bar() return: ${bar()}`);"
   ]
  },
  {
   "cell_type": "markdown",
   "metadata": {},
   "source": [
    "* Or since Node 8"
   ]
  },
  {
   "cell_type": "code",
   "execution_count": 12,
   "metadata": {},
   "outputs": [
    {
     "name": "stdout",
     "output_type": "stream",
     "text": [
      "use then() pattern:\n",
      "use async/await pattern:\n",
      "aaa\n",
      "bbb\n",
      "aaa\n",
      "bbb\n"
     ]
    }
   ],
   "source": [
    "const util = require('util');\n",
    "const myReadFile = util.promisify(fs.readFile);\n",
    "\n",
    "console.log(\"use then() pattern:\");\n",
    "myReadFile('./foo.txt', 'utf8').then(result => { console.log(result); });\n",
    "\n",
    "async function doStuff() {\n",
    "  try {\n",
    "    const content = await myReadFile('./foo.txt', 'utf8');\n",
    "    console.log(content);\n",
    "  } catch (err) {\n",
    "    console.error(err);\n",
    "  }\n",
    "}\n",
    "\n",
    "console.log(\"use async/await pattern:\");\n",
    "doStuff();"
   ]
  }
 ],
 "metadata": {
  "kernelspec": {
   "display_name": "Javascript (Node.js)",
   "language": "javascript",
   "name": "javascript"
  },
  "language_info": {
   "file_extension": ".js",
   "mimetype": "application/javascript",
   "name": "javascript",
   "version": "14.12.0"
  }
 },
 "nbformat": 4,
 "nbformat_minor": 4
}
