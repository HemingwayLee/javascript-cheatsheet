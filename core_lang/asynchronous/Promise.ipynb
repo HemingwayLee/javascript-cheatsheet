{
 "cells": [
  {
   "cell_type": "markdown",
   "metadata": {},
   "source": [
    "# What"
   ]
  },
  {
   "cell_type": "code",
   "execution_count": 2,
   "metadata": {},
   "outputs": [
    {
     "name": "stdout",
     "output_type": "stream",
     "text": [
      "immediate logging\n",
      "asynchronous logging has val: 5566\n"
     ]
    }
   ],
   "source": [
    "const p = new Promise((res, rej) => {\n",
    "  res(5566);\n",
    "});\n",
    "\n",
    "p.then((val) => console.log(`asynchronous logging has val: ${val}`));\n",
    "\n",
    "console.log(\"immediate logging\");"
   ]
  },
  {
   "cell_type": "markdown",
   "metadata": {},
   "source": [
    "# Error handling"
   ]
  },
  {
   "cell_type": "code",
   "execution_count": 4,
   "metadata": {},
   "outputs": [
    {
     "name": "stdout",
     "output_type": "stream",
     "text": [
      "Let's wait for a while\n",
      "then: EVEN\n"
     ]
    }
   ],
   "source": [
    "const p2 = new Promise((res, rej) => {\n",
    "  var sum = 0;\n",
    "  for (var i = 0; i < 1000; i++) {\n",
    "    sum += Math.floor(Math.random() * 11);\n",
    "  }\n",
    "  if (sum % 2 == 0) {\n",
    "    res(\"EVEN\");\n",
    "  } else {\n",
    "    rej(\"ODD\");  \n",
    "  }\n",
    "});\n",
    "\n",
    "p2.then(val => console.log(`then: ${val}`))\n",
    "  .catch(err => { console.log(`err: ${err}`) });\n",
    "\n",
    "console.log(\"Let's wait for a while\");"
   ]
  }
 ],
 "metadata": {
  "kernelspec": {
   "display_name": "Javascript (Node.js)",
   "language": "javascript",
   "name": "javascript"
  },
  "language_info": {
   "file_extension": ".js",
   "mimetype": "application/javascript",
   "name": "javascript",
   "version": "14.12.0"
  }
 },
 "nbformat": 4,
 "nbformat_minor": 4
}
