{
 "cells": [
  {
   "cell_type": "markdown",
   "metadata": {},
   "source": [
    "# What\n",
    "* It is used when a value is not known at the begining\n",
    "* Instead of immediately returning the final value, the asynchronous method returns a promise to supply the value at some point in the future\n",
    "\n",
    "## Promise callback goes to event queue\n",
    "[details](https://stackoverflow.com/questions/46375711/what-is-the-relationship-between-event-loop-and-promise)"
   ]
  },
  {
   "cell_type": "code",
   "execution_count": 1,
   "metadata": {},
   "outputs": [
    {
     "name": "stdout",
     "output_type": "stream",
     "text": [
      "immediate logging\n",
      "asynchronous logging has val: 5566\n"
     ]
    }
   ],
   "source": [
    "const p = new Promise((res, rej) => {\n",
    "  res(5566);\n",
    "});\n",
    "\n",
    "p.then((val) => console.log(`asynchronous logging has val: ${val}`));\n",
    "\n",
    "console.log(\"immediate logging\");"
   ]
  },
  {
   "cell_type": "markdown",
   "metadata": {},
   "source": [
    "# Error handling"
   ]
  },
  {
   "cell_type": "code",
   "execution_count": 1,
   "metadata": {},
   "outputs": [
    {
     "name": "stdout",
     "output_type": "stream",
     "text": [
      "Let's wait for a while\n",
      "then: EVEN\n",
      "always goes to me no matter ODD or EVEN\n"
     ]
    }
   ],
   "source": [
    "const p2 = new Promise((res, rej) => {\n",
    "  var sum = 0;\n",
    "  for (var i = 0; i < 1000; i++) {\n",
    "    sum += Math.floor(Math.random() * 11);\n",
    "  }\n",
    "  if (sum % 2 == 0) {\n",
    "    res(\"EVEN\");\n",
    "  } else {\n",
    "    rej(\"ODD\");  \n",
    "  }\n",
    "});\n",
    "\n",
    "p2.then(val => console.log(`then: ${val}`))\n",
    "  .catch(err => { console.log(`err: ${err}`) })\n",
    "  .finally(() => { console.log(\"always goes to me no matter ODD or EVEN\") });\n",
    "\n",
    "console.log(\"Let's wait for a while\");"
   ]
  },
  {
   "cell_type": "markdown",
   "metadata": {},
   "source": [
    "# Chain"
   ]
  },
  {
   "cell_type": "code",
   "execution_count": 2,
   "metadata": {},
   "outputs": [
    {
     "name": "stdout",
     "output_type": "stream",
     "text": [
      "first 1\n",
      "second 2\n",
      "third 4\n"
     ]
    },
    {
     "data": {
      "text/plain": [
       "8"
      ]
     },
     "execution_count": 2,
     "metadata": {},
     "output_type": "execute_result"
    }
   ],
   "source": [
    "new Promise(function(resolve, reject) {\n",
    "  setTimeout(() => resolve(1), 1000);\n",
    "}).then(function(result) {\n",
    "  console.log(`first ${result}`);\n",
    "  return result * 2;\n",
    "}).then(function(result) {\n",
    "  console.log(`second ${result}`);\n",
    "  return result * 2;\n",
    "}).then(function(result) {\n",
    "  console.log(`third ${result}`);\n",
    "  return result * 2;\n",
    "});"
   ]
  },
  {
   "cell_type": "markdown",
   "metadata": {},
   "source": [
    "## Promise.resolve\n",
    "* Using the static Promise.resolve()"
   ]
  },
  {
   "cell_type": "code",
   "execution_count": 2,
   "metadata": {},
   "outputs": [
    {
     "name": "stdout",
     "output_type": "stream",
     "text": [
      "Success\n"
     ]
    }
   ],
   "source": [
    "Promise.resolve('Success').then(function(value) {\n",
    "  console.log(value);\n",
    "});"
   ]
  },
  {
   "cell_type": "markdown",
   "metadata": {},
   "source": [
    "* Resolving an array"
   ]
  },
  {
   "cell_type": "code",
   "execution_count": 8,
   "metadata": {},
   "outputs": [
    {
     "name": "stdout",
     "output_type": "stream",
     "text": [
      "let check the value of 'p':\n",
      "Promise { [ 1, 2, 3 ] }\n",
      "inside v[0]: 1\n"
     ]
    }
   ],
   "source": [
    "var p = Promise.resolve([1,2,3]);\n",
    "p.then(function(v) {\n",
    "  console.log(`inside v[0]: ${v[0]}`);\n",
    "});\n",
    "\n",
    "console.log(\"let check the value of 'p':\");\n",
    "console.log(p);"
   ]
  },
  {
   "cell_type": "markdown",
   "metadata": {},
   "source": [
    "* Returning in then()"
   ]
  },
  {
   "cell_type": "code",
   "execution_count": 1,
   "metadata": {},
   "outputs": [
    {
     "name": "stdout",
     "output_type": "stream",
     "text": [
      "bbb\n"
     ]
    }
   ],
   "source": [
    "new Promise(function(res, rej) {\n",
    "  res(\"aaa\");\n",
    "})\n",
    ".then(function(result) {\n",
    "  return Promise.resolve(\"bbb\");\n",
    "})\n",
    ".then(function(result) {\n",
    "  console.log(result);\n",
    "});"
   ]
  },
  {
   "cell_type": "markdown",
   "metadata": {},
   "source": [
    "# Real example"
   ]
  },
  {
   "cell_type": "code",
   "execution_count": 2,
   "metadata": {},
   "outputs": [
    {
     "name": "stdout",
     "output_type": "stream",
     "text": [
      "can access foo\n"
     ]
    },
    {
     "name": "stderr",
     "output_type": "stream",
     "text": [
      "cannot access ggyya\n"
     ]
    }
   ],
   "source": [
    "const fs = require('fs');\n",
    "const fsp = fs.promises;\n",
    "\n",
    "fsp.access('foo.txt', fs.constants.R_OK | fs.constants.W_OK)\n",
    "  .then(() => console.log('can access foo'))\n",
    "  .catch(() => console.error('cannot access foo'));\n",
    "\n",
    "fsp.access('ggyya.txt', fs.constants.R_OK | fs.constants.W_OK)\n",
    "  .then(() => console.log('can access ggyya'))\n",
    "  .catch(() => console.error('cannot access ggyya'));"
   ]
  }
 ],
 "metadata": {
  "kernelspec": {
   "display_name": "Javascript (Node.js)",
   "language": "javascript",
   "name": "javascript"
  },
  "language_info": {
   "file_extension": ".js",
   "mimetype": "application/javascript",
   "name": "javascript",
   "version": "14.12.0"
  }
 },
 "nbformat": 4,
 "nbformat_minor": 4
}
