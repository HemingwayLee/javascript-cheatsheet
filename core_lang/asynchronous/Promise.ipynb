{
 "cells": [
  {
   "cell_type": "markdown",
   "metadata": {},
   "source": [
    "# What\n",
    "* It is used when a value is not known at the begining\n",
    "* Instead of immediately returning the final value, the asynchronous method returns a promise to supply the value at some point in the future\n",
    "\n",
    "## Promise callback goes to event queue\n",
    "[details](https://stackoverflow.com/questions/46375711/what-is-the-relationship-between-event-loop-and-promise)"
   ]
  },
  {
   "cell_type": "code",
   "execution_count": 1,
   "metadata": {},
   "outputs": [
    {
     "name": "stdout",
     "output_type": "stream",
     "text": [
      "immediate logging\n",
      "asynchronous logging has val: 5566\n"
     ]
    }
   ],
   "source": [
    "const p = new Promise((res, rej) => {\n",
    "  res(5566);\n",
    "});\n",
    "\n",
    "p.then((val) => console.log(`asynchronous logging has val: ${val}`));\n",
    "\n",
    "console.log(\"immediate logging\");"
   ]
  },
  {
   "cell_type": "markdown",
   "metadata": {},
   "source": [
    "# Error handling"
   ]
  },
  {
   "cell_type": "code",
   "execution_count": 1,
   "metadata": {},
   "outputs": [
    {
     "name": "stdout",
     "output_type": "stream",
     "text": [
      "Let's wait for a while\n",
      "then: EVEN\n",
      "always goes to me no matter ODD or EVEN\n"
     ]
    }
   ],
   "source": [
    "const p2 = new Promise((res, rej) => {\n",
    "  var sum = 0;\n",
    "  for (var i = 0; i < 1000; i++) {\n",
    "    sum += Math.floor(Math.random() * 11);\n",
    "  }\n",
    "  if (sum % 2 == 0) {\n",
    "    res(\"EVEN\");\n",
    "  } else {\n",
    "    rej(\"ODD\");  \n",
    "  }\n",
    "});\n",
    "\n",
    "p2.then(val => console.log(`then: ${val}`))\n",
    "  .catch(err => { console.log(`err: ${err}`) })\n",
    "  .finally(() => { console.log(\"always goes to me no matter ODD or EVEN\") });\n",
    "\n",
    "console.log(\"Let's wait for a while\");"
   ]
  },
  {
   "cell_type": "markdown",
   "metadata": {},
   "source": [
    "# Chain"
   ]
  },
  {
   "cell_type": "code",
   "execution_count": 2,
   "metadata": {},
   "outputs": [
    {
     "name": "stdout",
     "output_type": "stream",
     "text": [
      "first 1\n",
      "second 2\n",
      "third 4\n"
     ]
    },
    {
     "data": {
      "text/plain": [
       "8"
      ]
     },
     "execution_count": 2,
     "metadata": {},
     "output_type": "execute_result"
    }
   ],
   "source": [
    "new Promise(function(resolve, reject) {\n",
    "  setTimeout(() => resolve(1), 1000);\n",
    "}).then(function(result) {\n",
    "  console.log(`first ${result}`);\n",
    "  return result * 2;\n",
    "}).then(function(result) {\n",
    "  console.log(`second ${result}`);\n",
    "  return result * 2;\n",
    "}).then(function(result) {\n",
    "  console.log(`third ${result}`);\n",
    "  return result * 2;\n",
    "});"
   ]
  },
  {
   "cell_type": "markdown",
   "metadata": {},
   "source": [
    "## Promise.resolve\n",
    "* Using the static Promise.resolve()"
   ]
  },
  {
   "cell_type": "code",
   "execution_count": 2,
   "metadata": {},
   "outputs": [
    {
     "name": "stdout",
     "output_type": "stream",
     "text": [
      "Success\n"
     ]
    }
   ],
   "source": [
    "Promise.resolve('Success').then(function(value) {\n",
    "  console.log(value);\n",
    "});"
   ]
  },
  {
   "cell_type": "markdown",
   "metadata": {},
   "source": [
    "* Resolving an array"
   ]
  },
  {
   "cell_type": "code",
   "execution_count": 8,
   "metadata": {},
   "outputs": [
    {
     "name": "stdout",
     "output_type": "stream",
     "text": [
      "let check the value of 'p':\n",
      "Promise { [ 1, 2, 3 ] }\n",
      "inside v[0]: 1\n"
     ]
    }
   ],
   "source": [
    "var p = Promise.resolve([1,2,3]);\n",
    "p.then(function(v) {\n",
    "  console.log(`inside v[0]: ${v[0]}`);\n",
    "});\n",
    "\n",
    "console.log(\"let check the value of 'p':\");\n",
    "console.log(p);"
   ]
  },
  {
   "cell_type": "markdown",
   "metadata": {},
   "source": [
    "* Returning in then()"
   ]
  },
  {
   "cell_type": "code",
   "execution_count": 9,
   "metadata": {},
   "outputs": [
    {
     "name": "stdout",
     "output_type": "stream",
     "text": [
      "bbb\n"
     ]
    }
   ],
   "source": [
    "new Promise(function(res, rej) {\n",
    "  res(\"aaa\");\n",
    "})\n",
    ".then(function(result) {\n",
    "  return Promise.resolve(\"bbb\");\n",
    "})\n",
    ".then(function(result) {\n",
    "  console.log(result);\n",
    "});"
   ]
  },
  {
   "cell_type": "markdown",
   "metadata": {},
   "source": [
    "# Real example"
   ]
  },
  {
   "cell_type": "code",
   "execution_count": 1,
   "metadata": {},
   "outputs": [
    {
     "name": "stdout",
     "output_type": "stream",
     "text": [
      "waiting\n",
      "statusCode: 200\n",
      "headers: {\n",
      "  connection: 'close',\n",
      "  'content-length': '4025',\n",
      "  'cache-control': 'max-age=300',\n",
      "  'content-security-policy': \"default-src 'none'; style-src 'unsafe-inline'; sandbox\",\n",
      "  'content-type': 'text/plain; charset=utf-8',\n",
      "  etag: '\"628ee1581a5905d68fd85556f5dabc3539470294c9660b3c50bf05d78feab9ed\"',\n",
      "  'strict-transport-security': 'max-age=31536000',\n",
      "  'x-content-type-options': 'nosniff',\n",
      "  'x-frame-options': 'deny',\n",
      "  'x-xss-protection': '1; mode=block',\n",
      "  'x-github-request-id': '22F6:0261:91E0E:B3C48:606D8AF4',\n",
      "  'accept-ranges': 'bytes',\n",
      "  date: 'Wed, 07 Apr 2021 10:37:14 GMT',\n",
      "  via: '1.1 varnish',\n",
      "  'x-served-by': 'cache-tyo11931-TYO',\n",
      "  'x-cache': 'HIT',\n",
      "  'x-cache-hits': '1',\n",
      "  'x-timer': 'S1617791834.008589,VS0,VE0',\n",
      "  vary: 'Authorization,Accept-Encoding',\n",
      "  'access-control-allow-origin': '*',\n",
      "  'x-fastly-request-id': '534eaa260e72d7cdabee15f20bc09e171e99a3cd',\n",
      "  expires: 'Wed, 07 Apr 2021 10:42:14 GMT',\n",
      "  'source-age': '101'\n",
      "}\n",
      "<Buffer 22 73 65 70 61 6c 5f 6c 65 6e 67 74 68 22 2c 22 73 65 70 61 6c 5f 77 69 64 74 68 22 2c 22 70 65 74 61 6c 5f 6c 65 6e 67 74 68 22 2c 22 70 65 74 61 6c ... 1328 more bytes>\n",
      "<Buffer 2c 34 2c 31 2e 33 2c 22 56 65 72 73 69 63 6f 6c 6f 72 22 0a 36 2e 35 2c 32 2e 38 2c 34 2e 36 2c 31 2e 35 2c 22 56 65 72 73 69 63 6f 6c 6f 72 22 0a 35 ... 1328 more bytes>\n",
      "<Buffer 36 2e 33 2c 32 2e 39 2c 35 2e 36 2c 31 2e 38 2c 22 56 69 72 67 69 6e 69 63 61 22 0a 36 2e 35 2c 33 2c 35 2e 38 2c 32 2e 32 2c 22 56 69 72 67 69 6e 69 ... 1219 more bytes>\n"
     ]
    }
   ],
   "source": [
    "const https = require('https');\n",
    "const url = 'https://gist.githubusercontent.com/HemingwayLee/b3afd8555faa846df8fe54fe23178cd1/raw/868914676096a523d1a9fc408d97d427cff46293/iris.csv';\n",
    "https.get(url, res => {\n",
    "  console.log('statusCode:', res.statusCode);\n",
    "  console.log('headers:', res.headers);\n",
    "\n",
    "  res.on('data', (d) => {\n",
    "    console.log(d);\n",
    "  });\n",
    "}).on('error', err => {\n",
    "  console.log(err.message);\n",
    "});\n",
    "\n",
    "console.log(\"waiting\");"
   ]
  }
 ],
 "metadata": {
  "kernelspec": {
   "display_name": "Javascript (Node.js)",
   "language": "javascript",
   "name": "javascript"
  },
  "language_info": {
   "file_extension": ".js",
   "mimetype": "application/javascript",
   "name": "javascript",
   "version": "14.12.0"
  }
 },
 "nbformat": 4,
 "nbformat_minor": 4
}
