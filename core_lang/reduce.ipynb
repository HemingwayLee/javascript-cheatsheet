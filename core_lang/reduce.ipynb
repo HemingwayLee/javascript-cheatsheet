{
 "cells": [
  {
   "cell_type": "markdown",
   "metadata": {},
   "source": [
    "# syntax\n",
    "```\n",
    "array.reduce(function(total, currentValue, currentIndex, arr), initialValue)\n",
    "```"
   ]
  },
  {
   "cell_type": "code",
   "execution_count": 13,
   "metadata": {},
   "outputs": [
    {
     "name": "stdout",
     "output_type": "stream",
     "text": [
      "6\n",
      "6\n"
     ]
    }
   ],
   "source": [
    "var nums = [1, 2, 3];\n",
    "\n",
    "function getSum(total, num) {\n",
    "  return total + num;\n",
    "}\n",
    "\n",
    "console.log(nums.reduce(getSum, 0));\n",
    "console.log([1, 2, 3].reduce((total, curr) => {\n",
    "  return total + curr;\n",
    "}, 0));"
   ]
  },
  {
   "cell_type": "markdown",
   "metadata": {},
   "source": [
    "# Sum the object up"
   ]
  },
  {
   "cell_type": "code",
   "execution_count": 17,
   "metadata": {},
   "outputs": [
    {
     "name": "stdout",
     "output_type": "stream",
     "text": [
      "{ ta: 3, tb: 6 }\n"
     ]
    }
   ],
   "source": [
    "var objs = [{\"x\":1, \"y\":2}, {\"x\":1, \"y\":2}, {\"x\":1, \"y\":2}];\n",
    "\n",
    "console.log(objs.reduce((total, curr) => {\n",
    "  total[\"ta\"] = total[\"ta\"] + curr[\"x\"];\n",
    "  total[\"tb\"] = total[\"tb\"] + curr[\"y\"];\n",
    "  return total;\n",
    "}, {\"ta\": 0, \"tb\": 0}));"
   ]
  },
  {
   "cell_type": "code",
   "execution_count": 20,
   "metadata": {},
   "outputs": [
    {
     "name": "stdout",
     "output_type": "stream",
     "text": [
      "{ j: [ 'james', 'jake' ], r: [ 'rose' ], m: [ 'mary', 'mark' ] }\n"
     ]
    }
   ],
   "source": [
    "var names = [\"james\", \"jake\", \"rose\", \"mary\", \"mark\"];\n",
    "console.log(names.reduce((total, curr) => {\n",
    "  var first = curr[0];\n",
    "  if (total.hasOwnProperty(first)) {\n",
    "    total[first].push(curr);\n",
    "  } else {\n",
    "    total[first] = [];\n",
    "    total[first].push(curr);\n",
    "  }\n",
    "    \n",
    "  return total;\n",
    "}, {}));"
   ]
  }
 ],
 "metadata": {
  "kernelspec": {
   "display_name": "Javascript (Node.js)",
   "language": "javascript",
   "name": "javascript"
  },
  "language_info": {
   "file_extension": ".js",
   "mimetype": "application/javascript",
   "name": "javascript",
   "version": "14.12.0"
  }
 },
 "nbformat": 4,
 "nbformat_minor": 4
}
