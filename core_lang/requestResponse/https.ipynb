{
 "cells": [
  {
   "cell_type": "markdown",
   "metadata": {},
   "source": [
    "# https library"
   ]
  },
  {
   "cell_type": "code",
   "execution_count": 1,
   "metadata": {},
   "outputs": [
    {
     "name": "stdout",
     "output_type": "stream",
     "text": [
      "waiting\n",
      "statusCode: 200\n",
      "headers: {\n",
      "  connection: 'close',\n",
      "  'content-length': '4025',\n",
      "  'cache-control': 'max-age=300',\n",
      "  'content-security-policy': \"default-src 'none'; style-src 'unsafe-inline'; sandbox\",\n",
      "  'content-type': 'text/plain; charset=utf-8',\n",
      "  etag: '\"628ee1581a5905d68fd85556f5dabc3539470294c9660b3c50bf05d78feab9ed\"',\n",
      "  'strict-transport-security': 'max-age=31536000',\n",
      "  'x-content-type-options': 'nosniff',\n",
      "  'x-frame-options': 'deny',\n",
      "  'x-xss-protection': '1; mode=block',\n",
      "  'x-github-request-id': '1CE6:1625:4604D:8A100:606E4E08',\n",
      "  'accept-ranges': 'bytes',\n",
      "  date: 'Thu, 08 Apr 2021 00:28:54 GMT',\n",
      "  via: '1.1 varnish',\n",
      "  'x-served-by': 'cache-tyo11936-TYO',\n",
      "  'x-cache': 'HIT',\n",
      "  'x-cache-hits': '1',\n",
      "  'x-timer': 'S1617841734.050057,VS0,VE0',\n",
      "  vary: 'Authorization,Accept-Encoding',\n",
      "  'access-control-allow-origin': '*',\n",
      "  'x-fastly-request-id': '74badf1e1e01c835ccab2105af508d63fe7f5599',\n",
      "  expires: 'Thu, 08 Apr 2021 00:33:54 GMT',\n",
      "  'source-age': '61'\n",
      "}\n",
      "<Buffer 22 73 65 70 61 6c 5f 6c 65 6e 67 74 68 22 2c 22 73 65 70 61 6c 5f 77 69 64 74 68 22 2c 22 70 65 74 61 6c 5f 6c 65 6e 67 74 68 22 2c 22 70 65 74 61 6c ... 1328 more bytes>\n",
      "<Buffer 2c 34 2c 31 2e 33 2c 22 56 65 72 73 69 63 6f 6c 6f 72 22 0a 36 2e 35 2c 32 2e 38 2c 34 2e 36 2c 31 2e 35 2c 22 56 65 72 73 69 63 6f 6c 6f 72 22 0a 35 ... 1328 more bytes>\n",
      "<Buffer 36 2e 33 2c 32 2e 39 2c 35 2e 36 2c 31 2e 38 2c 22 56 69 72 67 69 6e 69 63 61 22 0a 36 2e 35 2c 33 2c 35 2e 38 2c 32 2e 32 2c 22 56 69 72 67 69 6e 69 ... 1219 more bytes>\n"
     ]
    }
   ],
   "source": [
    "const https = require('https');\n",
    "const url = 'https://gist.githubusercontent.com/HemingwayLee/b3afd8555faa846df8fe54fe23178cd1/raw/868914676096a523d1a9fc408d97d427cff46293/iris.csv';\n",
    "https.get(url, res => {\n",
    "  console.log('statusCode:', res.statusCode);\n",
    "  console.log('headers:', res.headers);\n",
    "\n",
    "  res.on('data', (d) => {\n",
    "    console.log(d);\n",
    "  });\n",
    "}).on('error', err => {\n",
    "  console.log(err.message);\n",
    "});\n",
    "\n",
    "console.log(\"waiting\");"
   ]
  },
  {
   "cell_type": "code",
   "execution_count": null,
   "metadata": {},
   "outputs": [],
   "source": []
  }
 ],
 "metadata": {
  "kernelspec": {
   "display_name": "Javascript (Node.js)",
   "language": "javascript",
   "name": "javascript"
  },
  "language_info": {
   "file_extension": ".js",
   "mimetype": "application/javascript",
   "name": "javascript",
   "version": "14.12.0"
  }
 },
 "nbformat": 4,
 "nbformat_minor": 4
}
