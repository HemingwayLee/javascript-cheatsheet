{
 "cells": [
  {
   "cell_type": "markdown",
   "metadata": {},
   "source": [
    "# use `this` to generate a class instance"
   ]
  },
  {
   "cell_type": "code",
   "execution_count": 3,
   "metadata": {},
   "outputs": [
    {
     "name": "stdout",
     "output_type": "stream",
     "text": [
      "Lee\n",
      "James\n",
      "35\n",
      "Chao\n",
      "Rose\n",
      "33\n"
     ]
    }
   ],
   "source": [
    "function Person(first, last, age) {\n",
    "  this.firstName = first;\n",
    "  this.lastName = last;\n",
    "  this.age = age;\n",
    "}\n",
    "\n",
    "var a = new Person(\"Lee\", \"James\", 35);\n",
    "var b = new Person(\"Chao\", \"Rose\", 33);\n",
    "\n",
    "console.log(a.firstName);\n",
    "console.log(a.lastName);\n",
    "console.log(a.age);\n",
    "\n",
    "console.log(b.firstName);\n",
    "console.log(b.lastName);\n",
    "console.log(b.age);"
   ]
  },
  {
   "cell_type": "code",
   "execution_count": 5,
   "metadata": {},
   "outputs": [
    {
     "name": "stdout",
     "output_type": "stream",
     "text": [
      "undefined\n",
      "undefined\n",
      "Taiwanese\n"
     ]
    }
   ],
   "source": [
    "Person.nationality = \"Taiwanese\";\n",
    "Person.prototype.rank = \"A\";\n",
    "\n",
    "var a1 = new Person(\"Lee\", \"Chris\", 16)\n",
    "var b2 = new Person(\"Chao\", \"Mark\", 20)\n",
    "\n",
    "console.log(a1.nationality);\n",
    "console.log(b2.nationality);\n",
    "console.log(Person.nationality);"
   ]
  },
  {
   "cell_type": "code",
   "execution_count": 6,
   "metadata": {},
   "outputs": [
    {
     "name": "stdout",
     "output_type": "stream",
     "text": [
      "A\n",
      "A\n",
      "Lee Chris\n",
      "Chao Mark\n"
     ]
    }
   ],
   "source": [
    "console.log(a1.rank);\n",
    "console.log(b2.rank);\n",
    "\n",
    "Person.prototype.name = function() {\n",
    "  return this.firstName + \" \" + this.lastName;\n",
    "}\n",
    "\n",
    "console.log(a1.name());\n",
    "console.log(b2.name());"
   ]
  },
  {
   "cell_type": "code",
   "execution_count": 7,
   "metadata": {},
   "outputs": [
    {
     "name": "stdout",
     "output_type": "stream",
     "text": [
      "undefined\n",
      "static\n",
      "instance\n",
      "undefined\n"
     ]
    }
   ],
   "source": [
    "function klass() {\n",
    "  this.ins = \"instance\";\n",
    "}\n",
    "    \n",
    "klass.sta = \"static\";\n",
    "\n",
    "console.log((new klass).sta);\n",
    "console.log(klass.sta);\n",
    "\n",
    "console.log((new klass).ins);\n",
    "console.log(klass.ins);"
   ]
  }
 ],
 "metadata": {
  "kernelspec": {
   "display_name": "Javascript (Node.js)",
   "language": "javascript",
   "name": "javascript"
  },
  "language_info": {
   "file_extension": ".js",
   "mimetype": "application/javascript",
   "name": "javascript",
   "version": "14.12.0"
  }
 },
 "nbformat": 4,
 "nbformat_minor": 4
}
