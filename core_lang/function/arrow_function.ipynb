{
 "cells": [
  {
   "cell_type": "markdown",
   "metadata": {},
   "source": [
    "# Arrow function\n",
    "* An arrow function expression is a `compact alternative` to a traditional function expression, but is `limited` and can't be used in all situations\n",
    "* It is anonymous\n",
    "  * It is hard to debug\n",
    "  * It is easy to use with `reduce` and `map`"
   ]
  },
  {
   "cell_type": "code",
   "execution_count": 2,
   "metadata": {},
   "outputs": [
    {
     "name": "stdout",
     "output_type": "stream",
     "text": [
      "[ 4, 3, 5 ]\n"
     ]
    }
   ],
   "source": [
    "var arr = ['bear', 'ant', 'tiger'];\n",
    "console.log(arr.map(function(ele) {\n",
    "  return ele.length;\n",
    "}));"
   ]
  },
  {
   "cell_type": "code",
   "execution_count": 3,
   "metadata": {},
   "outputs": [
    {
     "name": "stdout",
     "output_type": "stream",
     "text": [
      "[ 4, 3, 5 ]\n"
     ]
    }
   ],
   "source": [
    "console.log(arr.map((ele) => {\n",
    "  return ele.length;\n",
    "}));"
   ]
  },
  {
   "cell_type": "code",
   "execution_count": 4,
   "metadata": {},
   "outputs": [
    {
     "name": "stdout",
     "output_type": "stream",
     "text": [
      "[ 4, 3, 5 ]\n"
     ]
    }
   ],
   "source": [
    "console.log(arr.map(ele => {\n",
    "  return ele.length;\n",
    "}));"
   ]
  },
  {
   "cell_type": "code",
   "execution_count": 5,
   "metadata": {},
   "outputs": [
    {
     "name": "stdout",
     "output_type": "stream",
     "text": [
      "[ 4, 3, 5 ]\n"
     ]
    }
   ],
   "source": [
    "console.log(arr.map(ele => ele.length));"
   ]
  },
  {
   "cell_type": "code",
   "execution_count": 6,
   "metadata": {},
   "outputs": [
    {
     "name": "stdout",
     "output_type": "stream",
     "text": [
      "[ 4, 3, 5 ]\n"
     ]
    }
   ],
   "source": [
    "console.log(arr.map(_ => _.length));"
   ]
  },
  {
   "cell_type": "markdown",
   "metadata": {},
   "source": [
    "# Assign to variable"
   ]
  },
  {
   "cell_type": "code",
   "execution_count": 7,
   "metadata": {},
   "outputs": [
    {
     "name": "stdout",
     "output_type": "stream",
     "text": [
      "3\n"
     ]
    }
   ],
   "source": [
    "const foo = (a, b) => {\n",
    "  return a + b;\n",
    "}\n",
    "\n",
    "console.log(foo(1, 2));"
   ]
  }
 ],
 "metadata": {
  "kernelspec": {
   "display_name": "Javascript (Node.js)",
   "language": "javascript",
   "name": "javascript"
  },
  "language_info": {
   "file_extension": ".js",
   "mimetype": "application/javascript",
   "name": "javascript",
   "version": "14.12.0"
  }
 },
 "nbformat": 4,
 "nbformat_minor": 4
}
