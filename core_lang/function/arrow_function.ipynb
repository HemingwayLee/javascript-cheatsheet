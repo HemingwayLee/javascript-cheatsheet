{
 "cells": [
  {
   "cell_type": "markdown",
   "metadata": {},
   "source": [
    "# Arrow function\n",
    "* An arrow function expression is a `compact alternative` to a traditional function expression, but is `limited` and can't be used in all situations\n",
    "* It is anonymous\n",
    "  * It is hard to debug\n",
    "  * It is easy to use with `reduce` and `map`"
   ]
  },
  {
   "cell_type": "code",
   "execution_count": 12,
   "metadata": {},
   "outputs": [
    {
     "name": "stdout",
     "output_type": "stream",
     "text": [
      "[ 4, 3, 5 ]\n"
     ]
    }
   ],
   "source": [
    "var arr = ['bear', 'ant', 'tiger'];\n",
    "console.log(arr.map(function(ele) {\n",
    "  return ele.length;\n",
    "}));"
   ]
  },
  {
   "cell_type": "code",
   "execution_count": 13,
   "metadata": {},
   "outputs": [
    {
     "name": "stdout",
     "output_type": "stream",
     "text": [
      "[ 4, 3, 5 ]\n"
     ]
    }
   ],
   "source": [
    "console.log(arr.map((ele) => {\n",
    "  return ele.length;\n",
    "}));"
   ]
  },
  {
   "cell_type": "code",
   "execution_count": 14,
   "metadata": {},
   "outputs": [
    {
     "name": "stdout",
     "output_type": "stream",
     "text": [
      "[ 4, 3, 5 ]\n"
     ]
    }
   ],
   "source": [
    "console.log(arr.map(ele => {\n",
    "  return ele.length;\n",
    "}));"
   ]
  },
  {
   "cell_type": "code",
   "execution_count": 16,
   "metadata": {},
   "outputs": [
    {
     "name": "stdout",
     "output_type": "stream",
     "text": [
      "[ 4, 3, 5 ]\n"
     ]
    }
   ],
   "source": [
    "console.log(arr.map(ele => ele.length));"
   ]
  },
  {
   "cell_type": "code",
   "execution_count": 17,
   "metadata": {},
   "outputs": [
    {
     "name": "stdout",
     "output_type": "stream",
     "text": [
      "[ 4, 3, 5 ]\n"
     ]
    }
   ],
   "source": [
    "console.log(arr.map(_ => _.length));"
   ]
  }
 ],
 "metadata": {
  "kernelspec": {
   "display_name": "Javascript (Node.js)",
   "language": "javascript",
   "name": "javascript"
  },
  "language_info": {
   "file_extension": ".js",
   "mimetype": "application/javascript",
   "name": "javascript",
   "version": "14.12.0"
  }
 },
 "nbformat": 4,
 "nbformat_minor": 4
}
