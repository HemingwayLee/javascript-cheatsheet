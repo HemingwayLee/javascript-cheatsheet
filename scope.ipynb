{
 "cells": [
  {
   "cell_type": "markdown",
   "metadata": {},
   "source": [
    "## Local Scope\n",
    "### variable can not be accessed outside of the function"
   ]
  },
  {
   "cell_type": "code",
   "execution_count": 1,
   "metadata": {},
   "outputs": [
    {
     "name": "stdout",
     "output_type": "stream",
     "text": [
      "Inside function: Volvo\n"
     ]
    },
    {
     "ename": "ReferenceError",
     "evalue": "carName is not defined",
     "output_type": "error",
     "traceback": [
      "evalmachine.<anonymous>:10",
      "console.log(\"Outside function: \" + carName);",
      "                                   ^",
      "",
      "ReferenceError: carName is not defined",
      "    at evalmachine.<anonymous>:10:36",
      "    at Script.runInThisContext (vm.js:123:20)",
      "    at Object.runInThisContext (vm.js:313:38)",
      "    at run ([eval]:1002:15)",
      "    at onRunRequest ([eval]:829:18)",
      "    at onMessage ([eval]:789:13)",
      "    at process.emit (events.js:200:13)",
      "    at emit (internal/child_process.js:876:12)",
      "    at processTicksAndRejections (internal/process/task_queues.js:84:9)"
     ]
    }
   ],
   "source": [
    "function foo() {\n",
    "  var carName = \"Volvo\";\n",
    "\n",
    "  console.log(\"Inside function: \" + carName);\n",
    "}\n",
    "\n",
    "foo();\n",
    "\n",
    "console.log(\"Outside function: \" + carName);"
   ]
  },
  {
   "cell_type": "markdown",
   "metadata": {},
   "source": [
    "## Global Scope"
   ]
  },
  {
   "cell_type": "code",
   "execution_count": 5,
   "metadata": {},
   "outputs": [
    {
     "name": "stdout",
     "output_type": "stream",
     "text": [
      "Inside function: James\n",
      "Outside function: James\n"
     ]
    }
   ],
   "source": [
    "var myName = \"James\";\n",
    "\n",
    "function foo() {\n",
    "  console.log(\"Inside function: \" + myName);\n",
    "}\n",
    "\n",
    "foo();\n",
    "\n",
    "console.log(\"Outside function: \" + myName);"
   ]
  },
  {
   "cell_type": "markdown",
   "metadata": {},
   "source": [
    "## Automatically Global Scope\n",
    "If you assign a value to a variable that has not been declared, it will automatically become a GLOBAL variable.\n"
   ]
  },
  {
   "cell_type": "code",
   "execution_count": 4,
   "metadata": {},
   "outputs": [
    {
     "name": "stdout",
     "output_type": "stream",
     "text": [
      "Inside function: Volvo\n",
      "Outside function: Volvo\n"
     ]
    }
   ],
   "source": [
    "function foo() {\n",
    "  youName = \"Volvo\";\n",
    "  console.log(\"Inside function: \" + youName);\n",
    "}\n",
    "\n",
    "foo();\n",
    "\n",
    "console.log(\"Outside function: \" + youName);"
   ]
  }
 ],
 "metadata": {
  "kernelspec": {
   "display_name": "Javascript (Node.js)",
   "language": "javascript",
   "name": "javascript"
  },
  "language_info": {
   "file_extension": ".js",
   "mimetype": "application/javascript",
   "name": "javascript",
   "version": "12.3.1"
  }
 },
 "nbformat": 4,
 "nbformat_minor": 2
}
